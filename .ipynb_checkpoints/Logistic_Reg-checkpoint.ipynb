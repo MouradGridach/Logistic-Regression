{
 "cells": [
  {
   "cell_type": "markdown",
   "metadata": {},
   "source": [
    "# Logistic Regression for binary classification"
   ]
  },
  {
   "cell_type": "markdown",
   "metadata": {},
   "source": [
    "In this problem, we introduce the Logistic Regression problem where we are going to do binary classification data. "
   ]
  },
  {
   "cell_type": "code",
   "execution_count": 152,
   "metadata": {},
   "outputs": [],
   "source": [
    "# Import Libraries\n",
    "import math\n",
    "import scipy.io\n",
    "import numpy as np\n",
    "from numpy.random import permutation\n",
    "import matplotlib.pyplot as plt\n",
    "from __future__ import division"
   ]
  },
  {
   "cell_type": "code",
   "execution_count": 153,
   "metadata": {
    "collapsed": true
   },
   "outputs": [],
   "source": [
    "# Load the data\n",
    "def load():\n",
    "    mat = scipy.io.loadmat('myData.mat')\n",
    "    XTrain = mat.get(\"XTrain\")\n",
    "    yTrain = mat.get(\"yTrain\")\n",
    "\n",
    "    XTest = mat.get(\"XTest\")\n",
    "    yTest = mat.get(\"yTest\")\n",
    "    return (XTrain, yTrain, XTest, yTest)"
   ]
  },
  {
   "cell_type": "markdown",
   "metadata": {},
   "source": [
    " The function \"Compute_Grad\" compute the gradient of the logistic regression objective function with respect to each parameter.\n"
   ]
  },
  {
   "cell_type": "code",
   "execution_count": 154,
   "metadata": {
    "collapsed": true
   },
   "outputs": [],
   "source": [
    "# \n",
    "def Compute_Grad(XTrain,yTrain,wHat):\n",
    "    \n",
    "    # Get dimensions\n",
    "    (n, p) = XTrain.shape\n",
    "    grad = np.zeros(wHat.shape)\n",
    "    e = XTrain.dot(wHat[1:(p+1)]) + wHat[0]\n",
    "    \n",
    "    grad[0] = sum(np.exp(e) / (1 + np.exp(e)) - yTrain)\n",
    "    \n",
    "    for j in range(1, p+1):\n",
    "        x = np.reshape(XTrain[:, j-1], (n, 1))\n",
    "        xx = (yTrain - np.exp(e) / (1 + np.exp(e))) * x\n",
    "        grad[j] = sum((np.exp(e) / (1 + np.exp(e)) - yTrain) * x)\n",
    "    \n",
    "    return grad"
   ]
  },
  {
   "cell_type": "markdown",
   "metadata": {},
   "source": [
    "The function \"Compute_Obj\" will compute the objective function of the logistic rgression which we will try to minimize."
   ]
  },
  {
   "cell_type": "code",
   "execution_count": 155,
   "metadata": {
    "collapsed": true
   },
   "outputs": [],
   "source": [
    "def Compute_Obj(XTrain,yTrain,wHat):\n",
    "    # Get dimensions\n",
    "    (n, p) = XTrain.shape\n",
    "   \n",
    "    e = XTrain.dot(wHat[1:(p + 1)]) + wHat[0] \n",
    "    \n",
    "    obj = sum(np.log(1 + np.exp(e)) - yTrain * (e))\n",
    "    return obj"
   ]
  },
  {
   "cell_type": "markdown",
   "metadata": {},
   "source": [
    "The function Check_Convergence will check whether the objective value has converged by comparing the difference between consecutive objective values to the tolerance"
   ]
  },
  {
   "cell_type": "code",
   "execution_count": 156,
   "metadata": {
    "collapsed": true
   },
   "outputs": [],
   "source": [
    "def Check_Convergence(oldObj, newObj, tol):\n",
    "    if (abs(oldObj - newObj) < tol):\n",
    "        return True\n",
    "    return False"
   ]
  },
  {
   "cell_type": "markdown",
   "metadata": {},
   "source": [
    "The function will run gradient descent for logistic regression algorithm.\n",
    "\n",
    "Parameters:\n",
    "\n",
    "    wHat : the predicted parameters.\n",
    "    \n",
    "    objValues : the values of the objective function at each iteration. We will use this parameter to plot the objective function as the training improves.\n"
   ]
  },
  {
   "cell_type": "code",
   "execution_count": 157,
   "metadata": {
    "collapsed": true
   },
   "outputs": [],
   "source": [
    "def Gradient_Descent(XTrain, yTrain):\n",
    "\n",
    "    # Set the step size. You can tune thus hyperparameters.\n",
    "    alpha = 0.01\n",
    "    \n",
    "    # Get the size\n",
    "    (n, p) = XTrain.shape\n",
    "    \n",
    "    # Set the tolerance\n",
    "    tol = 0.001\n",
    "    \n",
    "    # Initiliaze wHat parameters\n",
    "    wHat = np.zeros((p + 1, 1))\n",
    "    \n",
    "    oldObj = Compute_Obj(XTrain, yTrain, wHat)\n",
    "    \n",
    "    # Initiliaze the objVals list\n",
    "    objValues = [oldObj]\n",
    "    converged = False\n",
    "    \n",
    "    while(converged == False):\n",
    "        # Compute the gradient\n",
    "        grad = Compute_Grad(XTrain,yTrain,wHat)\n",
    "      \n",
    "        # update parameters\n",
    "        wHat = wHat  - alpha * grad\n",
    "      \n",
    "        # Compute the new objective\n",
    "        newObj = Compute_Obj(XTrain, yTrain, wHat)\n",
    "      \n",
    "        converged = Check_Convergence(oldObj, newObj, tol)\n",
    "      \n",
    "        oldObj = newObj\n",
    "      \n",
    "        # Add this newObj to the list of value objective\n",
    "        objValues.append(newObj)\n",
    "    \n",
    "    return (wHat,objValues)"
   ]
  },
  {
   "cell_type": "markdown",
   "metadata": {},
   "source": [
    "The function Predict will predict the labels of a new test dataset.\n",
    "\n",
    "Parameters:\n",
    "\n",
    "    yHat : the predicted values of y using the trained parameters wHat\n",
    "    \n",
    "    numErrors : the number of misclassified examples, i.e. the differences between yHat and yTest"
   ]
  },
  {
   "cell_type": "code",
   "execution_count": 158,
   "metadata": {
    "collapsed": true
   },
   "outputs": [],
   "source": [
    "def Predict(XTest, yTest, wHat):\n",
    "    \n",
    "    # get dimensions\n",
    "    (m, p) = XTest.shape\n",
    "  \n",
    "    e = XTest.dot(wHat[1:(p+1)]) + wHat[0]\n",
    "  \n",
    "    yHat_0 = 1 /  ( 1 + np.exp(e))\n",
    "  \n",
    "    yHat_1 = (np.exp(e)) /  ( 1 + np.exp(e))\n",
    "  \n",
    "    yHat = np.zeros(yHat_0.shape)\n",
    "  \n",
    "    for i in range(m):\n",
    "        if(yHat_0[i] > yHat_1[i]):\n",
    "            yHat[i] = 0\n",
    "        else:\n",
    "            yHat[i] = 1\n",
    "  \n",
    "    numErrors = sum(yHat != yTest)\n",
    "  \n",
    "    return (yHat,sum(numErrors))"
   ]
  },
  {
   "cell_type": "code",
   "execution_count": 159,
   "metadata": {},
   "outputs": [
    {
     "data": {
      "image/png": "[encoded data removed]",
      "text/plain": [
       "<matplotlib.figure.Figure at 0x115c7b390>"
      ]
     },
     "metadata": {},
     "output_type": "display_data"
    }
   ],
   "source": [
    "# Plot the value of the objective function on each iteration of gradient descent\n",
    "\n",
    "(XTrain, yTrain, XTest, yTest) = load()\n",
    "\n",
    "# Train logistic regression\n",
    "(wHat, objVals) = Gradient_Descent(XTrain,yTrain)\n",
    "x = range(0, len(objVals), 1)\n",
    "\n",
    "plt.plot(x, objVals)\n",
    "plt.show()"
   ]
  },
  {
   "cell_type": "code",
   "execution_count": 160,
   "metadata": {
    "scrolled": false
   },
   "outputs": [
    {
     "data": {
      "image/png": "[encoded data removed]",
      "text/plain": [
       "<matplotlib.figure.Figure at 0x115dac590>"
      ]
     },
     "metadata": {},
     "output_type": "display_data"
    }
   ],
   "source": [
    "# Here, we will evaluate how the training and test error change as the training set size increases.\n",
    "  \n",
    "(n, p) = XTrain.shape\n",
    "(m, p) = XTest.shape\n",
    "x = range(0, n, 10)\n",
    "    \n",
    "TestError= []\n",
    "TrainingError = []\n",
    "\n",
    "k = 10\n",
    "while (k <= n):\n",
    "    subsetInds = permutation(n)\n",
    "    subsetInds = subsetInds[0:k]\n",
    "    \n",
    "    XTrainSubset = XTrain[subsetInds, :]\n",
    "    yTrainSubset = yTrain[subsetInds]\n",
    "    \n",
    "    (wHat, objVals) = Gradient_Descent(XTrainSubset, yTrainSubset)\n",
    "    (yHat1, numErrors1) = Predict(XTrainSubset, yTrainSubset, wHat)\n",
    "    TrainingError.append(numErrors1/k)\n",
    "    \n",
    "    (yHat2,numErrors2) = Predict(XTest,yTest,wHat)\n",
    "    TestError.append(numErrors2/m)\n",
    "\n",
    "    k = k + 10\n",
    "\n",
    "[tr, tes] = plt.plot(x, TrainingError, 'b', x, TestError, 'r')\n",
    "plt.legend([tr,tes], [\"TrainingError\",\"TestError\"], loc=1)\n",
    "plt.show()"
   ]
  },
  {
   "cell_type": "code",
   "execution_count": 151,
   "metadata": {},
   "outputs": [
    {
     "data": {
      "image/png": "[encoded data removed]",
      "text/plain": [
       "<matplotlib.figure.Figure at 0x1163c3390>"
      ]
     },
     "metadata": {},
     "output_type": "display_data"
    }
   ],
   "source": [
    "# Plot the average training and test error over these 10 samples.\n",
    "\n",
    "# It should be noted that the value 10 could be tuned. \n",
    "\n",
    "(XTrain, yTrain, XTest, yTest) = load()\n",
    "\n",
    "(n, p) = XTrain.shape\n",
    "(m, p) = XTest.shape\n",
    "x = range(0, n, 10)\n",
    "\n",
    "  \n",
    "TestError = []\n",
    "TrainingError = []\n",
    "\n",
    "listTest = []\n",
    "listTraining = []\n",
    "  \n",
    "k = 10\n",
    "while (k <=n):\n",
    "    # Average over 10 samples. You can tune this value.\n",
    "    j=0\n",
    "    while (j <= 10):\n",
    "        subsetInds = permutation(n)\n",
    "        subsetInds = subsetInds[0:k]\n",
    "        \n",
    "        XTrainSubset = XTrain[subsetInds, :]\n",
    "        yTrainSubset = yTrain[subsetInds]\n",
    "      \n",
    "        (wHat,objVals) = Gradient_Descent(XTrainSubset,yTrainSubset)\n",
    "      \n",
    "        (yHat1,numErrors1) = Predict(XTrainSubset,yTrainSubset,wHat)\n",
    "        listTraining.append(numErrors1/k)\n",
    "    \n",
    "        (yHat2, numErrors2) = Predict(XTest,yTest,wHat)\n",
    "        listTest.append(numErrors2/m)\n",
    "      \n",
    "        j = j + 1\n",
    "    \n",
    "    \n",
    "    TrainingError.append(np.mean(listTraining))\n",
    "    TestError.append(np.mean(listTest))\n",
    "    \n",
    "    k = k + 10\n",
    "  \n",
    "[tr, tes] = plt.plot(x, TrainingError, 'b', x, TestError, 'r')\n",
    "plt.legend([tr,tes], [\"TrainingError\",\"TestError\"], loc=1)\n",
    "plt.show()"
   ]
  },
  {
   "cell_type": "code",
   "execution_count": null,
   "metadata": {
    "collapsed": true
   },
   "outputs": [],
   "source": []
  }
 ],
 "metadata": {
  "kernelspec": {
   "display_name": "Python 2",
   "language": "python",
   "name": "python2"
  },
  "language_info": {
   "codemirror_mode": {
    "name": "ipython",
    "version": 2
   },
   "file_extension": ".py",
   "mimetype": "text/x-python",
   "name": "python",
   "nbconvert_exporter": "python",
   "pygments_lexer": "ipython2",
   "version": "2.7.13"
  }
 },
 "nbformat": 4,
 "nbformat_minor": 2
}
